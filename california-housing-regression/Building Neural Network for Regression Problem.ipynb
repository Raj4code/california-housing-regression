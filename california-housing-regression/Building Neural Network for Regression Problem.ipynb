{
 "cells": [
  {
   "cell_type": "code",
   "execution_count": 1,
   "id": "41bb9894-609e-4105-a25e-522d1f110830",
   "metadata": {},
   "outputs": [
    {
     "name": "stderr",
     "output_type": "stream",
     "text": [
      "C:\\ProgramData\\anaconda3\\Lib\\site-packages\\numpy\\_distributor_init.py:30: UserWarning: loaded more than 1 DLL from .libs:\n",
      "C:\\ProgramData\\anaconda3\\Lib\\site-packages\\numpy\\.libs\\libopenblas.FB5AE2TYXYH2IJRDKGDGQ3XBKLKTF43H.gfortran-win_amd64.dll\n",
      "C:\\ProgramData\\anaconda3\\Lib\\site-packages\\numpy\\.libs\\libopenblas64__v0.3.21-gcc_10_3_0.dll\n",
      "  warnings.warn(\"loaded more than 1 DLL from .libs:\"\n"
     ]
    }
   ],
   "source": [
    "import pandas as pd\n",
    "import numpy as np\n",
    "%matplotlib inline\n",
    "import matplotlib as mpl\n",
    "import matplotlib.pyplot as plt"
   ]
  },
  {
   "cell_type": "code",
   "execution_count": 2,
   "id": "436d3a36-f682-4716-bd0c-9b9a2681f88c",
   "metadata": {},
   "outputs": [],
   "source": [
    "import tensorflow as tf\n",
    "from tensorflow import keras"
   ]
  },
  {
   "cell_type": "code",
   "execution_count": 3,
   "id": "341c7a90-30ef-461e-92ce-d30e887653fe",
   "metadata": {},
   "outputs": [],
   "source": [
    "from sklearn.datasets import fetch_california_housing\n",
    "housing = fetch_california_housing()"
   ]
  },
  {
   "cell_type": "markdown",
   "id": "29298863-824c-477b-9b12-99b02ef50e97",
   "metadata": {},
   "source": [
    "## Data Set Characteristics:\n",
    "\n",
    "*Number of Instances:*  \n",
    "20640\n",
    "\n",
    "*Number of Attributes:*  \n",
    "8 numeric, predictive attributes and the target\n",
    "\n",
    "### Attribute Information:\n",
    "- *MedInc*: median income in block  \n",
    "- *HouseAge*: median house age in block  \n",
    "- *AveRooms*: average number of rooms  \n",
    "- *AveBedrms*: average number of bedrooms  \n",
    "- *Population*: block population  \n",
    "- *AveOccup*: average house occupancy  \n",
    "- *Latitude*: house block latitude  \n",
    "- *Longitude*: house block longitude  \n",
    "\n",
    "### Target\n",
    "The target variable is the median house value in units of 100,000 for California districts."
   ]
  },
  {
   "cell_type": "code",
   "execution_count": 4,
   "id": "85227152-797e-4489-8730-c16e93d937b6",
   "metadata": {},
   "outputs": [
    {
     "name": "stdout",
     "output_type": "stream",
     "text": [
      "['MedInc', 'HouseAge', 'AveRooms', 'AveBedrms', 'Population', 'AveOccup', 'Latitude', 'Longitude']\n"
     ]
    }
   ],
   "source": [
    "print(housing.feature_names)"
   ]
  },
  {
   "cell_type": "code",
   "execution_count": 7,
   "id": "75f4c08a-567c-462d-88c9-25ebfa3b0ea1",
   "metadata": {},
   "outputs": [],
   "source": [
    "from sklearn.model_selection import train_test_split\n",
    "X_train_full, X_test, y_train_full, y_test = train_test_split(housing.data, housing.target, random_state = 42)\n",
    "X_train, X_valid, y_train, y_valid = train_test_split(X_train_full, y_train_full, random_state = 42)"
   ]
  },
  {
   "cell_type": "code",
   "execution_count": 10,
   "id": "0561feab-9c75-40f1-ba22-47b75a01a7ea",
   "metadata": {},
   "outputs": [],
   "source": [
    "from sklearn.preprocessing import StandardScaler\n",
    "scaler = StandardScaler()\n",
    "X_train = scaler.fit_transform(X_train)\n",
    "X_valid = scaler.transform(X_valid)\n",
    "X_test = scaler.transform(X_test)"
   ]
  },
  {
   "cell_type": "code",
   "execution_count": 12,
   "id": "5d87be8f-5c20-49fb-9c22-a9828ee3dd0b",
   "metadata": {},
   "outputs": [],
   "source": [
    "np.random.seed(42)\n",
    "tf.random.set_seed(42)"
   ]
  },
  {
   "cell_type": "code",
   "execution_count": 13,
   "id": "f5f0ffb0-6127-4cb2-8542-1a2c2625e8a1",
   "metadata": {},
   "outputs": [
    {
     "data": {
      "text/plain": [
       "(11610, 8)"
      ]
     },
     "execution_count": 13,
     "metadata": {},
     "output_type": "execute_result"
    }
   ],
   "source": [
    "X_train.shape"
   ]
  },
  {
   "cell_type": "markdown",
   "id": "c9d0952d-accb-4492-90b2-7cd89024097e",
   "metadata": {},
   "source": [
    "![Neural Network Diagram](RM_Imagee.jpg)\n"
   ]
  },
  {
   "cell_type": "code",
   "execution_count": 14,
   "id": "4352c9f4-0010-496b-bb28-94ba846d457b",
   "metadata": {},
   "outputs": [],
   "source": [
    "model = keras.models.Sequential([\n",
    "    keras.layers.Dense(30, activation = \"relu\", input_shape = [8]),\n",
    "    keras.layers.Dense(30, activation = \"relu\"),\n",
    "    keras.layers.Dense(1)\n",
    "])\n"
   ]
  },
  {
   "cell_type": "code",
   "execution_count": 15,
   "id": "2c29b4f1-2ae9-4ca4-a9e2-293822739c27",
   "metadata": {},
   "outputs": [
    {
     "name": "stdout",
     "output_type": "stream",
     "text": [
      "Model: \"sequential\"\n",
      "_________________________________________________________________\n",
      " Layer (type)                Output Shape              Param #   \n",
      "=================================================================\n",
      " dense (Dense)               (None, 30)                270       \n",
      "                                                                 \n",
      " dense_1 (Dense)             (None, 30)                930       \n",
      "                                                                 \n",
      " dense_2 (Dense)             (None, 1)                 31        \n",
      "                                                                 \n",
      "=================================================================\n",
      "Total params: 1231 (4.81 KB)\n",
      "Trainable params: 1231 (4.81 KB)\n",
      "Non-trainable params: 0 (0.00 Byte)\n",
      "_________________________________________________________________\n"
     ]
    }
   ],
   "source": [
    "model.summary()"
   ]
  },
  {
   "cell_type": "code",
   "execution_count": 19,
   "id": "8eeda582-60f4-4032-9296-efd2bcf59114",
   "metadata": {},
   "outputs": [],
   "source": [
    "model.compile(loss = \"mean_squared_error\",\n",
    "              optimizer = keras.optimizers.SGD(learning_rate=1e-3),\n",
    "              metrics = ['mae'])"
   ]
  },
  {
   "cell_type": "code",
   "execution_count": 25,
   "id": "64271cf0-fcf8-4010-a452-0de70c9fb22d",
   "metadata": {},
   "outputs": [
    {
     "name": "stdout",
     "output_type": "stream",
     "text": [
      "Epoch 1/20\n",
      "363/363 [==============================] - 1s 3ms/step - loss: 0.3943 - mae: 0.4493 - val_loss: 0.4064 - val_mae: 0.4394\n",
      "Epoch 2/20\n",
      "363/363 [==============================] - 1s 3ms/step - loss: 0.3923 - mae: 0.4475 - val_loss: 0.4290 - val_mae: 0.4434\n",
      "Epoch 3/20\n",
      "363/363 [==============================] - 2s 5ms/step - loss: 0.3906 - mae: 0.4466 - val_loss: 0.4194 - val_mae: 0.4376\n",
      "Epoch 4/20\n",
      "363/363 [==============================] - 1s 3ms/step - loss: 0.3889 - mae: 0.4453 - val_loss: 0.3986 - val_mae: 0.4380\n",
      "Epoch 5/20\n",
      "363/363 [==============================] - 1s 3ms/step - loss: 0.3873 - mae: 0.4442 - val_loss: 0.3901 - val_mae: 0.4356\n",
      "Epoch 6/20\n",
      "363/363 [==============================] - 1s 3ms/step - loss: 0.3856 - mae: 0.4435 - val_loss: 0.4061 - val_mae: 0.4344\n",
      "Epoch 7/20\n",
      "363/363 [==============================] - 1s 4ms/step - loss: 0.3844 - mae: 0.4423 - val_loss: 0.4012 - val_mae: 0.4338\n",
      "Epoch 8/20\n",
      "363/363 [==============================] - 1s 3ms/step - loss: 0.3830 - mae: 0.4414 - val_loss: 0.3900 - val_mae: 0.4316\n",
      "Epoch 9/20\n",
      "363/363 [==============================] - 1s 3ms/step - loss: 0.3816 - mae: 0.4408 - val_loss: 0.4047 - val_mae: 0.4314\n",
      "Epoch 10/20\n",
      "363/363 [==============================] - 1s 3ms/step - loss: 0.3803 - mae: 0.4398 - val_loss: 0.4205 - val_mae: 0.4316\n",
      "Epoch 11/20\n",
      "363/363 [==============================] - 1s 3ms/step - loss: 0.3793 - mae: 0.4388 - val_loss: 0.3938 - val_mae: 0.4297\n",
      "Epoch 12/20\n",
      "363/363 [==============================] - 1s 3ms/step - loss: 0.3779 - mae: 0.4377 - val_loss: 0.4301 - val_mae: 0.4317\n",
      "Epoch 13/20\n",
      "363/363 [==============================] - 1s 3ms/step - loss: 0.3768 - mae: 0.4370 - val_loss: 0.4214 - val_mae: 0.4327\n",
      "Epoch 14/20\n",
      "363/363 [==============================] - 1s 3ms/step - loss: 0.3756 - mae: 0.4360 - val_loss: 0.4079 - val_mae: 0.4312\n",
      "Epoch 15/20\n",
      "363/363 [==============================] - 1s 3ms/step - loss: 0.3746 - mae: 0.4356 - val_loss: 0.4115 - val_mae: 0.4302\n",
      "Epoch 16/20\n",
      "363/363 [==============================] - 1s 3ms/step - loss: 0.3735 - mae: 0.4351 - val_loss: 0.3961 - val_mae: 0.4281\n",
      "Epoch 17/20\n",
      "363/363 [==============================] - 1s 3ms/step - loss: 0.3726 - mae: 0.4341 - val_loss: 0.4180 - val_mae: 0.4281\n",
      "Epoch 18/20\n",
      "363/363 [==============================] - 1s 3ms/step - loss: 0.3717 - mae: 0.4333 - val_loss: 0.4117 - val_mae: 0.4260\n",
      "Epoch 19/20\n",
      "363/363 [==============================] - 1s 3ms/step - loss: 0.3705 - mae: 0.4324 - val_loss: 0.4033 - val_mae: 0.4250\n",
      "Epoch 20/20\n",
      "363/363 [==============================] - 1s 3ms/step - loss: 0.3698 - mae: 0.4317 - val_loss: 0.4320 - val_mae: 0.4288\n"
     ]
    }
   ],
   "source": [
    "model_history = model.fit(X_train, y_train, epochs = 20, validation_data = (X_valid, y_valid))"
   ]
  },
  {
   "cell_type": "code",
   "execution_count": 26,
   "id": "f1109902-ddd0-4a7c-8159-63207cd783fa",
   "metadata": {},
   "outputs": [
    {
     "name": "stdout",
     "output_type": "stream",
     "text": [
      "162/162 [==============================] - 0s 2ms/step - loss: 30025.1699 - mae: 154.8190\n"
     ]
    }
   ],
   "source": [
    "mae_test = model.evaluate(X_test, y_test)"
   ]
  },
  {
   "cell_type": "code",
   "execution_count": 27,
   "id": "7496e662-3863-48cc-9a16-fc5cbb6fccbd",
   "metadata": {},
   "outputs": [
    {
     "data": {
      "text/plain": [
       "{'loss': [0.3943287134170532,\n",
       "  0.392260879278183,\n",
       "  0.39056074619293213,\n",
       "  0.3888949155807495,\n",
       "  0.3873072564601898,\n",
       "  0.38561171293258667,\n",
       "  0.3843579590320587,\n",
       "  0.3829883337020874,\n",
       "  0.3816116750240326,\n",
       "  0.38027894496917725,\n",
       "  0.3792725205421448,\n",
       "  0.37794122099876404,\n",
       "  0.37678292393684387,\n",
       "  0.3756231665611267,\n",
       "  0.37464019656181335,\n",
       "  0.3735232651233673,\n",
       "  0.3726145327091217,\n",
       "  0.37166276574134827,\n",
       "  0.370490700006485,\n",
       "  0.3697839379310608],\n",
       " 'mae': [0.4492722451686859,\n",
       "  0.447477787733078,\n",
       "  0.44664981961250305,\n",
       "  0.44532519578933716,\n",
       "  0.4442335367202759,\n",
       "  0.4435364007949829,\n",
       "  0.4422949552536011,\n",
       "  0.44139227271080017,\n",
       "  0.44080784916877747,\n",
       "  0.4397895336151123,\n",
       "  0.4388081729412079,\n",
       "  0.43770089745521545,\n",
       "  0.43703022599220276,\n",
       "  0.43598732352256775,\n",
       "  0.4356386065483093,\n",
       "  0.43511322140693665,\n",
       "  0.4340752959251404,\n",
       "  0.43330448865890503,\n",
       "  0.4324326813220978,\n",
       "  0.43172672390937805],\n",
       " 'val_loss': [0.40637901425361633,\n",
       "  0.4290466606616974,\n",
       "  0.41938138008117676,\n",
       "  0.3985860049724579,\n",
       "  0.3901216685771942,\n",
       "  0.40612098574638367,\n",
       "  0.40118464827537537,\n",
       "  0.3899715840816498,\n",
       "  0.4046512544155121,\n",
       "  0.42047297954559326,\n",
       "  0.3937962055206299,\n",
       "  0.43010565638542175,\n",
       "  0.4213901460170746,\n",
       "  0.40791672468185425,\n",
       "  0.41147738695144653,\n",
       "  0.39609864354133606,\n",
       "  0.4179926812648773,\n",
       "  0.41172268986701965,\n",
       "  0.4032706022262573,\n",
       "  0.4320087432861328],\n",
       " 'val_mae': [0.439371258020401,\n",
       "  0.4434032738208771,\n",
       "  0.43762096762657166,\n",
       "  0.4379856586456299,\n",
       "  0.4356457591056824,\n",
       "  0.43436649441719055,\n",
       "  0.4338374733924866,\n",
       "  0.4315696954727173,\n",
       "  0.43137168884277344,\n",
       "  0.43155765533447266,\n",
       "  0.42969202995300293,\n",
       "  0.4317205548286438,\n",
       "  0.43273669481277466,\n",
       "  0.43120279908180237,\n",
       "  0.43015873432159424,\n",
       "  0.4280836582183838,\n",
       "  0.428141713142395,\n",
       "  0.4259631931781769,\n",
       "  0.42495104670524597,\n",
       "  0.42875581979751587]}"
      ]
     },
     "execution_count": 27,
     "metadata": {},
     "output_type": "execute_result"
    }
   ],
   "source": [
    "model_history.history"
   ]
  },
  {
   "cell_type": "code",
   "execution_count": 28,
   "id": "2a12cb44-740f-44ab-b4c6-1f63e0ed6566",
   "metadata": {},
   "outputs": [
    {
     "data": {
      "image/png": "[encoded data removed]",
      "text/plain": [
       "<Figure size 800x500 with 1 Axes>"
      ]
     },
     "metadata": {},
     "output_type": "display_data"
    }
   ],
   "source": [
    "pd.DataFrame(model_history.history).plot(figsize = (8,5))\n",
    "plt.grid(True)\n",
    "plt.gca().set_ylim(0,1)\n",
    "plt.show()"
   ]
  },
  {
   "cell_type": "code",
   "execution_count": 29,
   "id": "d8bec24b-0f8d-4786-8f4d-fd19318916a4",
   "metadata": {},
   "outputs": [],
   "source": [
    "X_new = X_test[:3]"
   ]
  },
  {
   "cell_type": "code",
   "execution_count": 30,
   "id": "c791941f-830c-41cb-be22-4c89b06d506a",
   "metadata": {},
   "outputs": [
    {
     "name": "stdout",
     "output_type": "stream",
     "text": [
      "1/1 [==============================] - 0s 197ms/step\n",
      "[[149.40912]\n",
      " [164.34145]\n",
      " [148.11191]]\n",
      "[0.477   0.458   5.00001]\n"
     ]
    }
   ],
   "source": [
    "y_pred = model.predict(X_new)                  \n",
    "print(y_pred)\n",
    "print(y_test[:3])"
   ]
  },
  {
   "cell_type": "code",
   "execution_count": 31,
   "id": "56985fb0-87cb-41c8-b071-1d788a113e3f",
   "metadata": {},
   "outputs": [],
   "source": [
    "del model"
   ]
  },
  {
   "cell_type": "code",
   "execution_count": 32,
   "id": "11c6dc7a-69d3-4c33-9885-519b3458e7d8",
   "metadata": {},
   "outputs": [],
   "source": [
    "keras.backend.clear_session()"
   ]
  },
  {
   "cell_type": "markdown",
   "id": "1025706e-8705-4942-9425-2cbdd0d60dbc",
   "metadata": {},
   "source": [
    "## Functional API"
   ]
  },
  {
   "cell_type": "code",
   "execution_count": 36,
   "id": "98f27c5a-b205-4c4c-9653-193919ceee7b",
   "metadata": {},
   "outputs": [],
   "source": [
    "input_ = keras.layers.Input(shape=X_train.shape[1:])\n",
    "hidden1 = keras.layers.Dense(30, activation=\"relu\")(input_)\n",
    "hidden2 = keras.layers.Dense(30, activation=\"relu\")(hidden1)\n",
    "concat = keras.layers.concatenate([input_, hidden2])\n",
    "output = keras.layers.Dense(1)(concat)\n",
    "model = keras.models.Model(inputs = [input_], outputs=[output])"
   ]
  },
  {
   "cell_type": "code",
   "execution_count": 37,
   "id": "778436e9-5951-4fa6-8619-d5cde3ba7aa9",
   "metadata": {},
   "outputs": [
    {
     "name": "stdout",
     "output_type": "stream",
     "text": [
      "Model: \"model\"\n",
      "__________________________________________________________________________________________________\n",
      " Layer (type)                Output Shape                 Param #   Connected to                  \n",
      "==================================================================================================\n",
      " input_4 (InputLayer)        [(None, 8)]                  0         []                            \n",
      "                                                                                                  \n",
      " dense_1 (Dense)             (None, 30)                   270       ['input_4[0][0]']             \n",
      "                                                                                                  \n",
      " dense_2 (Dense)             (None, 30)                   930       ['dense_1[0][0]']             \n",
      "                                                                                                  \n",
      " concatenate (Concatenate)   (None, 38)                   0         ['input_4[0][0]',             \n",
      "                                                                     'dense_2[0][0]']             \n",
      "                                                                                                  \n",
      " dense_3 (Dense)             (None, 1)                    39        ['concatenate[0][0]']         \n",
      "                                                                                                  \n",
      "==================================================================================================\n",
      "Total params: 1239 (4.84 KB)\n",
      "Trainable params: 1239 (4.84 KB)\n",
      "Non-trainable params: 0 (0.00 Byte)\n",
      "__________________________________________________________________________________________________\n"
     ]
    }
   ],
   "source": [
    "model.summary()"
   ]
  },
  {
   "cell_type": "code",
   "execution_count": 38,
   "id": "0b52eb58-a63a-46c5-b9fc-6989835ed402",
   "metadata": {},
   "outputs": [],
   "source": [
    "model.compile(loss = \"mean_squared_error\",\n",
    "              optimizer = keras.optimizers.SGD(learning_rate=1e-3),\n",
    "              metrics = ['mae'])"
   ]
  },
  {
   "cell_type": "code",
   "execution_count": 44,
   "id": "23bc92dc-5c0d-4251-b597-38b3bb23565d",
   "metadata": {},
   "outputs": [
    {
     "name": "stdout",
     "output_type": "stream",
     "text": [
      "Epoch 1/40\n",
      "363/363 [==============================] - 0s 1ms/step - loss: 0.3792 - mae: 0.4401 - val_loss: 0.3610 - val_mae: 0.4259\n",
      "Epoch 2/40\n",
      "363/363 [==============================] - 0s 1ms/step - loss: 0.3779 - mae: 0.4393 - val_loss: 0.4297 - val_mae: 0.4341\n",
      "Epoch 3/40\n",
      "363/363 [==============================] - 1s 1ms/step - loss: 0.3774 - mae: 0.4396 - val_loss: 0.3974 - val_mae: 0.4279\n",
      "Epoch 4/40\n",
      "363/363 [==============================] - 0s 1ms/step - loss: 0.3758 - mae: 0.4382 - val_loss: 0.3768 - val_mae: 0.4296\n",
      "Epoch 5/40\n",
      "363/363 [==============================] - 0s 1ms/step - loss: 0.3755 - mae: 0.4377 - val_loss: 0.3515 - val_mae: 0.4244\n",
      "Epoch 6/40\n",
      "363/363 [==============================] - 0s 1ms/step - loss: 0.3737 - mae: 0.4372 - val_loss: 0.3993 - val_mae: 0.4279\n",
      "Epoch 7/40\n",
      "363/363 [==============================] - 0s 1ms/step - loss: 0.3737 - mae: 0.4366 - val_loss: 0.3639 - val_mae: 0.4246\n",
      "Epoch 8/40\n",
      "363/363 [==============================] - 0s 1ms/step - loss: 0.3725 - mae: 0.4362 - val_loss: 0.3490 - val_mae: 0.4217\n",
      "Epoch 9/40\n",
      "363/363 [==============================] - 0s 1ms/step - loss: 0.3715 - mae: 0.4358 - val_loss: 0.3728 - val_mae: 0.4238\n",
      "Epoch 10/40\n",
      "363/363 [==============================] - 0s 1ms/step - loss: 0.3706 - mae: 0.4350 - val_loss: 0.3819 - val_mae: 0.4236\n",
      "Epoch 11/40\n",
      "363/363 [==============================] - 0s 1ms/step - loss: 0.3704 - mae: 0.4343 - val_loss: 0.3475 - val_mae: 0.4202\n",
      "Epoch 12/40\n",
      "363/363 [==============================] - 0s 1ms/step - loss: 0.3691 - mae: 0.4336 - val_loss: 0.4122 - val_mae: 0.4258\n",
      "Epoch 13/40\n",
      "363/363 [==============================] - 0s 1ms/step - loss: 0.3688 - mae: 0.4333 - val_loss: 0.3601 - val_mae: 0.4228\n",
      "Epoch 14/40\n",
      "363/363 [==============================] - 0s 1ms/step - loss: 0.3677 - mae: 0.4324 - val_loss: 0.3521 - val_mae: 0.4216\n",
      "Epoch 15/40\n",
      "363/363 [==============================] - 0s 1ms/step - loss: 0.3670 - mae: 0.4324 - val_loss: 0.3628 - val_mae: 0.4225\n",
      "Epoch 16/40\n",
      "363/363 [==============================] - 0s 1ms/step - loss: 0.3663 - mae: 0.4320 - val_loss: 0.3450 - val_mae: 0.4198\n",
      "Epoch 17/40\n",
      "363/363 [==============================] - 0s 1ms/step - loss: 0.3651 - mae: 0.4312 - val_loss: 0.3844 - val_mae: 0.4226\n",
      "Epoch 18/40\n",
      "363/363 [==============================] - 0s 1ms/step - loss: 0.3654 - mae: 0.4309 - val_loss: 0.3577 - val_mae: 0.4194\n",
      "Epoch 19/40\n",
      "363/363 [==============================] - 0s 1ms/step - loss: 0.3642 - mae: 0.4301 - val_loss: 0.3585 - val_mae: 0.4200\n",
      "Epoch 20/40\n",
      "363/363 [==============================] - 0s 1ms/step - loss: 0.3636 - mae: 0.4298 - val_loss: 0.4092 - val_mae: 0.4244\n",
      "Epoch 21/40\n",
      "363/363 [==============================] - 0s 1ms/step - loss: 0.3631 - mae: 0.4292 - val_loss: 0.3702 - val_mae: 0.4228\n",
      "Epoch 22/40\n",
      "363/363 [==============================] - 0s 1ms/step - loss: 0.3624 - mae: 0.4290 - val_loss: 0.3905 - val_mae: 0.4238\n",
      "Epoch 23/40\n",
      "363/363 [==============================] - 0s 1ms/step - loss: 0.3617 - mae: 0.4290 - val_loss: 0.3438 - val_mae: 0.4152\n",
      "Epoch 24/40\n",
      "363/363 [==============================] - 0s 1ms/step - loss: 0.3611 - mae: 0.4277 - val_loss: 0.3716 - val_mae: 0.4196\n",
      "Epoch 25/40\n",
      "363/363 [==============================] - 0s 1ms/step - loss: 0.3604 - mae: 0.4278 - val_loss: 0.3822 - val_mae: 0.4213\n",
      "Epoch 26/40\n",
      "363/363 [==============================] - 0s 1ms/step - loss: 0.3601 - mae: 0.4276 - val_loss: 0.3718 - val_mae: 0.4199\n",
      "Epoch 27/40\n",
      "363/363 [==============================] - 0s 1ms/step - loss: 0.3600 - mae: 0.4273 - val_loss: 0.3402 - val_mae: 0.4157\n",
      "Epoch 28/40\n",
      "363/363 [==============================] - 0s 1ms/step - loss: 0.3593 - mae: 0.4266 - val_loss: 0.3639 - val_mae: 0.4208\n",
      "Epoch 29/40\n",
      "363/363 [==============================] - 1s 1ms/step - loss: 0.3588 - mae: 0.4266 - val_loss: 0.3505 - val_mae: 0.4180\n",
      "Epoch 30/40\n",
      "363/363 [==============================] - 0s 1ms/step - loss: 0.3582 - mae: 0.4262 - val_loss: 0.3783 - val_mae: 0.4187\n",
      "Epoch 31/40\n",
      "363/363 [==============================] - 0s 1ms/step - loss: 0.3572 - mae: 0.4250 - val_loss: 0.3417 - val_mae: 0.4152\n",
      "Epoch 32/40\n",
      "363/363 [==============================] - 0s 1ms/step - loss: 0.3570 - mae: 0.4254 - val_loss: 0.3931 - val_mae: 0.4223\n",
      "Epoch 33/40\n",
      "363/363 [==============================] - 0s 1ms/step - loss: 0.3573 - mae: 0.4258 - val_loss: 0.3394 - val_mae: 0.4161\n",
      "Epoch 34/40\n",
      "363/363 [==============================] - 0s 1ms/step - loss: 0.3561 - mae: 0.4245 - val_loss: 0.3475 - val_mae: 0.4182\n",
      "Epoch 35/40\n",
      "363/363 [==============================] - 0s 1ms/step - loss: 0.3561 - mae: 0.4249 - val_loss: 0.3769 - val_mae: 0.4205\n",
      "Epoch 36/40\n",
      "363/363 [==============================] - 0s 1ms/step - loss: 0.3552 - mae: 0.4245 - val_loss: 0.3358 - val_mae: 0.4128\n",
      "Epoch 37/40\n",
      "363/363 [==============================] - 0s 1ms/step - loss: 0.3553 - mae: 0.4239 - val_loss: 0.3467 - val_mae: 0.4158\n",
      "Epoch 38/40\n",
      "363/363 [==============================] - 0s 1ms/step - loss: 0.3547 - mae: 0.4242 - val_loss: 0.3364 - val_mae: 0.4142\n",
      "Epoch 39/40\n",
      "363/363 [==============================] - 0s 1ms/step - loss: 0.3539 - mae: 0.4235 - val_loss: 0.3394 - val_mae: 0.4136\n",
      "Epoch 40/40\n",
      "363/363 [==============================] - 0s 1ms/step - loss: 0.3534 - mae: 0.4233 - val_loss: 0.3472 - val_mae: 0.4126\n"
     ]
    }
   ],
   "source": [
    "model_history = model.fit(X_train, y_train, epochs = 40, validation_data = (X_valid, y_valid))"
   ]
  },
  {
   "cell_type": "code",
   "execution_count": 45,
   "id": "e47b9272-23c0-41c7-9ae4-cfb6f7bf9fe4",
   "metadata": {},
   "outputs": [
    {
     "name": "stdout",
     "output_type": "stream",
     "text": [
      "162/162 [==============================] - 0s 754us/step - loss: 21324.0938 - mae: 143.7520\n"
     ]
    }
   ],
   "source": [
    "mae_test = model.evaluate(X_test, y_test)"
   ]
  },
  {
   "cell_type": "code",
   "execution_count": 46,
   "id": "9697a424-ccd2-4ae2-948f-59695a67b4b0",
   "metadata": {},
   "outputs": [
    {
     "data": {
      "text/plain": [
       "{'loss': [0.3791651129722595,\n",
       "  0.3779199421405792,\n",
       "  0.37737831473350525,\n",
       "  0.3758224546909332,\n",
       "  0.3754596710205078,\n",
       "  0.37367740273475647,\n",
       "  0.3736606538295746,\n",
       "  0.37251195311546326,\n",
       "  0.3714843690395355,\n",
       "  0.3706281781196594,\n",
       "  0.37035220861434937,\n",
       "  0.3691158890724182,\n",
       "  0.3687695562839508,\n",
       "  0.36765122413635254,\n",
       "  0.3669997453689575,\n",
       "  0.3663310408592224,\n",
       "  0.3651280999183655,\n",
       "  0.36537042260169983,\n",
       "  0.36415883898735046,\n",
       "  0.36359429359436035,\n",
       "  0.36311763525009155,\n",
       "  0.36238008737564087,\n",
       "  0.36166810989379883,\n",
       "  0.36108213663101196,\n",
       "  0.36044538021087646,\n",
       "  0.3601008951663971,\n",
       "  0.35995352268218994,\n",
       "  0.3592613935470581,\n",
       "  0.3588206171989441,\n",
       "  0.35816359519958496,\n",
       "  0.35721734166145325,\n",
       "  0.35702767968177795,\n",
       "  0.35726189613342285,\n",
       "  0.35608306527137756,\n",
       "  0.356071412563324,\n",
       "  0.3552153706550598,\n",
       "  0.35529372096061707,\n",
       "  0.35473746061325073,\n",
       "  0.35391050577163696,\n",
       "  0.35342705249786377],\n",
       " 'mae': [0.4400605857372284,\n",
       "  0.43932223320007324,\n",
       "  0.43959736824035645,\n",
       "  0.4381815791130066,\n",
       "  0.43773388862609863,\n",
       "  0.4372248649597168,\n",
       "  0.4366455674171448,\n",
       "  0.43616679310798645,\n",
       "  0.43578991293907166,\n",
       "  0.43496841192245483,\n",
       "  0.434280127286911,\n",
       "  0.43357688188552856,\n",
       "  0.4333229959011078,\n",
       "  0.43238675594329834,\n",
       "  0.4324222505092621,\n",
       "  0.4320008456707001,\n",
       "  0.4312053322792053,\n",
       "  0.430869460105896,\n",
       "  0.4301030933856964,\n",
       "  0.4298229515552521,\n",
       "  0.4292203187942505,\n",
       "  0.4290238320827484,\n",
       "  0.4289743900299072,\n",
       "  0.42767271399497986,\n",
       "  0.4277515709400177,\n",
       "  0.4275660216808319,\n",
       "  0.4272894561290741,\n",
       "  0.4265604317188263,\n",
       "  0.42664891481399536,\n",
       "  0.4261969327926636,\n",
       "  0.4249957203865051,\n",
       "  0.4253928065299988,\n",
       "  0.42577478289604187,\n",
       "  0.42451199889183044,\n",
       "  0.4248548746109009,\n",
       "  0.4245174527168274,\n",
       "  0.42388394474983215,\n",
       "  0.42416316270828247,\n",
       "  0.4234876036643982,\n",
       "  0.42332592606544495],\n",
       " 'val_loss': [0.36101147532463074,\n",
       "  0.429714173078537,\n",
       "  0.3973986506462097,\n",
       "  0.37677887082099915,\n",
       "  0.3515484929084778,\n",
       "  0.39925622940063477,\n",
       "  0.36392971873283386,\n",
       "  0.34897130727767944,\n",
       "  0.3728080987930298,\n",
       "  0.3819088935852051,\n",
       "  0.34749144315719604,\n",
       "  0.41221147775650024,\n",
       "  0.3601033389568329,\n",
       "  0.35214152932167053,\n",
       "  0.36280009150505066,\n",
       "  0.34495946764945984,\n",
       "  0.38438481092453003,\n",
       "  0.35769668221473694,\n",
       "  0.3585398197174072,\n",
       "  0.4091602563858032,\n",
       "  0.37022486329078674,\n",
       "  0.39049458503723145,\n",
       "  0.3437998592853546,\n",
       "  0.37159380316734314,\n",
       "  0.3822316527366638,\n",
       "  0.3717559278011322,\n",
       "  0.3401782810688019,\n",
       "  0.3639087677001953,\n",
       "  0.35050398111343384,\n",
       "  0.3783251941204071,\n",
       "  0.3416934907436371,\n",
       "  0.3931162357330322,\n",
       "  0.3394372761249542,\n",
       "  0.34752190113067627,\n",
       "  0.3768715560436249,\n",
       "  0.33583441376686096,\n",
       "  0.3467106819152832,\n",
       "  0.3364410102367401,\n",
       "  0.3393889367580414,\n",
       "  0.34720656275749207],\n",
       " 'val_mae': [0.4259410500526428,\n",
       "  0.4340710937976837,\n",
       "  0.42793911695480347,\n",
       "  0.4296204745769501,\n",
       "  0.42442557215690613,\n",
       "  0.42789626121520996,\n",
       "  0.42460450530052185,\n",
       "  0.42171528935432434,\n",
       "  0.42383986711502075,\n",
       "  0.423625648021698,\n",
       "  0.42019957304000854,\n",
       "  0.4257792830467224,\n",
       "  0.42284780740737915,\n",
       "  0.4216395914554596,\n",
       "  0.4224943518638611,\n",
       "  0.41979730129241943,\n",
       "  0.422561913728714,\n",
       "  0.41940534114837646,\n",
       "  0.4199816584587097,\n",
       "  0.4244321882724762,\n",
       "  0.42278802394866943,\n",
       "  0.423784464597702,\n",
       "  0.4152480959892273,\n",
       "  0.4195975959300995,\n",
       "  0.4212793707847595,\n",
       "  0.4198818802833557,\n",
       "  0.4157438278198242,\n",
       "  0.42079848051071167,\n",
       "  0.4179823696613312,\n",
       "  0.4187231957912445,\n",
       "  0.4152330458164215,\n",
       "  0.42227181792259216,\n",
       "  0.4160514771938324,\n",
       "  0.4181712865829468,\n",
       "  0.42051830887794495,\n",
       "  0.4128258228302002,\n",
       "  0.4157634377479553,\n",
       "  0.4142112135887146,\n",
       "  0.4136275351047516,\n",
       "  0.4126463234424591]}"
      ]
     },
     "execution_count": 46,
     "metadata": {},
     "output_type": "execute_result"
    }
   ],
   "source": [
    "model_history.history"
   ]
  },
  {
   "cell_type": "code",
   "execution_count": 47,
   "id": "8f9f21bd-17d0-43ed-af51-b0fada32c022",
   "metadata": {},
   "outputs": [
    {
     "data": {
      "image/png": "[encoded data removed]",
      "text/plain": [
       "<Figure size 800x500 with 1 Axes>"
      ]
     },
     "metadata": {},
     "output_type": "display_data"
    }
   ],
   "source": [
    "pd.DataFrame(model_history.history).plot(figsize = (8,5))\n",
    "plt.grid(True)\n",
    "plt.gca().set_ylim(0,1)\n",
    "plt.show()"
   ]
  },
  {
   "cell_type": "markdown",
   "id": "ada77d10-bc6b-4957-98e4-a2020cad026c",
   "metadata": {},
   "source": [
    "### Saving and Restoring"
   ]
  },
  {
   "cell_type": "code",
   "execution_count": 48,
   "id": "dfaa1c5e-8333-4710-ba11-12c63eb836fc",
   "metadata": {},
   "outputs": [
    {
     "name": "stderr",
     "output_type": "stream",
     "text": [
      "C:\\ProgramData\\anaconda3\\Lib\\site-packages\\keras\\src\\engine\\training.py:3000: UserWarning: You are saving your model as an HDF5 file via `model.save()`. This file format is considered legacy. We recommend using instead the native Keras format, e.g. `model.save('my_model.keras')`.\n",
      "  saving_api.save_model(\n"
     ]
    }
   ],
   "source": [
    "model.save(\"my_func_model.h5\")"
   ]
  },
  {
   "cell_type": "code",
   "execution_count": 49,
   "id": "50ea13fb-706c-4d85-9224-ab2e254ced36",
   "metadata": {},
   "outputs": [
    {
     "data": {
      "text/plain": [
       "'C:\\\\Users\\\\hp\\\\Downloads\\\\Deep Learning'"
      ]
     },
     "execution_count": 49,
     "metadata": {},
     "output_type": "execute_result"
    }
   ],
   "source": [
    "%pwd"
   ]
  },
  {
   "cell_type": "code",
   "execution_count": 50,
   "id": "7e450b0b-66c3-4984-b074-4ba2c7d2afd8",
   "metadata": {},
   "outputs": [],
   "source": [
    "del model"
   ]
  },
  {
   "cell_type": "code",
   "execution_count": 51,
   "id": "c73b8fdd-b78c-4f0c-bcf8-72ac691e8b2a",
   "metadata": {},
   "outputs": [],
   "source": [
    "keras.backend.clear_session()"
   ]
  },
  {
   "cell_type": "code",
   "execution_count": 52,
   "id": "a0adf3b8-972c-4412-90ec-44b9502900c1",
   "metadata": {},
   "outputs": [],
   "source": [
    "model = keras.models.load_model(\"my_func_model.h5\")"
   ]
  },
  {
   "cell_type": "code",
   "execution_count": 53,
   "id": "7df5b4cd-3794-4cce-bd3c-cb3238b09174",
   "metadata": {},
   "outputs": [
    {
     "name": "stdout",
     "output_type": "stream",
     "text": [
      "Model: \"model\"\n",
      "__________________________________________________________________________________________________\n",
      " Layer (type)                Output Shape                 Param #   Connected to                  \n",
      "==================================================================================================\n",
      " input_4 (InputLayer)        [(None, 8)]                  0         []                            \n",
      "                                                                                                  \n",
      " dense_1 (Dense)             (None, 30)                   270       ['input_4[0][0]']             \n",
      "                                                                                                  \n",
      " dense_2 (Dense)             (None, 30)                   930       ['dense_1[0][0]']             \n",
      "                                                                                                  \n",
      " concatenate (Concatenate)   (None, 38)                   0         ['input_4[0][0]',             \n",
      "                                                                     'dense_2[0][0]']             \n",
      "                                                                                                  \n",
      " dense_3 (Dense)             (None, 1)                    39        ['concatenate[0][0]']         \n",
      "                                                                                                  \n",
      "==================================================================================================\n",
      "Total params: 1239 (4.84 KB)\n",
      "Trainable params: 1239 (4.84 KB)\n",
      "Non-trainable params: 0 (0.00 Byte)\n",
      "__________________________________________________________________________________________________\n"
     ]
    }
   ],
   "source": [
    "model.summary()"
   ]
  },
  {
   "cell_type": "code",
   "execution_count": 54,
   "id": "8d334ddc-308e-4b45-9d64-d0fb045186fd",
   "metadata": {},
   "outputs": [
    {
     "name": "stdout",
     "output_type": "stream",
     "text": [
      "1/1 [==============================] - 0s 166ms/step\n",
      "[[138.0817 ]\n",
      " [146.99583]\n",
      " [151.09116]]\n"
     ]
    }
   ],
   "source": [
    "y_pred = model.predict(X_new)\n",
    "print(y_pred)"
   ]
  },
  {
   "cell_type": "code",
   "execution_count": 55,
   "id": "8068dd5d-16e0-4451-80f2-d28da4e30874",
   "metadata": {},
   "outputs": [],
   "source": [
    "del model"
   ]
  },
  {
   "cell_type": "code",
   "execution_count": 56,
   "id": "1967f107-3b0a-4278-97ed-a204876ab281",
   "metadata": {},
   "outputs": [],
   "source": [
    "keras.backend.clear_session()"
   ]
  },
  {
   "cell_type": "markdown",
   "id": "70e30fbc-61e2-4ab6-8904-d1be696c071d",
   "metadata": {},
   "source": [
    "### Using Callbacks during Training"
   ]
  },
  {
   "cell_type": "code",
   "execution_count": 57,
   "id": "6231c804-fa4b-4907-a5f8-9d571686de9f",
   "metadata": {},
   "outputs": [],
   "source": [
    "np.random.seed(42)\n",
    "tf.random.set_seed(42)"
   ]
  },
  {
   "cell_type": "code",
   "execution_count": 58,
   "id": "a3f0b85b-2fe5-4da2-ae68-efcc509daab5",
   "metadata": {},
   "outputs": [],
   "source": [
    "model = keras.models.Sequential([\n",
    "    keras.layers.Dense(30, activation = \"relu\", input_shape = [8]),\n",
    "    keras.layers.Dense(30, activation = \"relu\"),\n",
    "    keras.layers.Dense(1)\n",
    "])"
   ]
  },
  {
   "cell_type": "code",
   "execution_count": 61,
   "id": "ca6b4df3-3034-4a47-8215-c2e2f867daa2",
   "metadata": {},
   "outputs": [],
   "source": [
    "model.compile(loss=\"mse\", optimizer=keras.optimizers.SGD(learning_rate=1e-3))"
   ]
  },
  {
   "cell_type": "code",
   "execution_count": 63,
   "id": "4da836b1-0f98-4b07-94e2-d864cead8a45",
   "metadata": {},
   "outputs": [],
   "source": [
    "checkpoint_cb = keras.callbacks.ModelCheckpoint(\"Model-{epoch:02d}.h5\")"
   ]
  },
  {
   "cell_type": "code",
   "execution_count": 64,
   "id": "ee6c6d0e-1c1e-4c56-ab79-ba585395009d",
   "metadata": {},
   "outputs": [
    {
     "name": "stdout",
     "output_type": "stream",
     "text": [
      "Epoch 1/10\n",
      "363/363 [==============================] - 1s 2ms/step - loss: 2.0994 - val_loss: 1.1882\n",
      "Epoch 2/10\n",
      "363/363 [==============================] - 1s 2ms/step - loss: 0.7151 - val_loss: 0.6380\n",
      "Epoch 3/10\n",
      "363/363 [==============================] - 1s 2ms/step - loss: 0.6317 - val_loss: 0.5768\n",
      "Epoch 4/10\n",
      "363/363 [==============================] - 1s 2ms/step - loss: 0.5899 - val_loss: 0.5845\n",
      "Epoch 5/10\n",
      "363/363 [==============================] - 1s 2ms/step - loss: 0.5576 - val_loss: 0.5559\n",
      "Epoch 6/10\n",
      "363/363 [==============================] - 1s 2ms/step - loss: 0.5298 - val_loss: 0.5099\n",
      "Epoch 7/10\n",
      "363/363 [==============================] - 1s 2ms/step - loss: 0.5069 - val_loss: 0.4714\n",
      "Epoch 8/10\n",
      "363/363 [==============================] - 1s 2ms/step - loss: 0.4875 - val_loss: 0.4803\n",
      "Epoch 9/10\n",
      "363/363 [==============================] - 1s 1ms/step - loss: 0.4706 - val_loss: 0.4530\n",
      "Epoch 10/10\n",
      "363/363 [==============================] - 1s 2ms/step - loss: 0.4566 - val_loss: 0.4454\n"
     ]
    }
   ],
   "source": [
    "history = model.fit(X_train, y_train, epochs = 10,\n",
    "                    validation_data = (X_valid, y_valid),\n",
    "                    callbacks = [checkpoint_cb])"
   ]
  },
  {
   "cell_type": "code",
   "execution_count": 65,
   "id": "d26b1d2d-109d-4b7a-be0b-dd69591898a2",
   "metadata": {},
   "outputs": [],
   "source": [
    "del model\n",
    "keras.backend.clear_session()"
   ]
  },
  {
   "cell_type": "code",
   "execution_count": 66,
   "id": "bc2a74c0-6700-438d-ba86-3812c74470ad",
   "metadata": {},
   "outputs": [],
   "source": [
    "model = keras.models.load_model(\"Model-10.h5\")"
   ]
  },
  {
   "cell_type": "code",
   "execution_count": 67,
   "id": "abfd67d9-f6a3-4758-9bff-a12485179ef4",
   "metadata": {},
   "outputs": [
    {
     "name": "stdout",
     "output_type": "stream",
     "text": [
      "162/162 [==============================] - 1s 2ms/step - loss: 67096.9141\n"
     ]
    }
   ],
   "source": [
    "mse_test = model.evaluate(X_test, y_test)"
   ]
  },
  {
   "cell_type": "markdown",
   "id": "36caf359-548c-43b1-b326-7bbb8b581e9d",
   "metadata": {},
   "source": [
    "### Best Model Only"
   ]
  },
  {
   "cell_type": "code",
   "execution_count": 68,
   "id": "15ebb776-f6b8-44b4-9892-e48f329bb90f",
   "metadata": {},
   "outputs": [],
   "source": [
    "del model\n",
    "keras.backend.clear_session()"
   ]
  },
  {
   "cell_type": "code",
   "execution_count": 69,
   "id": "251bbf5e-1c50-4d51-8b81-a5048ac2d498",
   "metadata": {},
   "outputs": [],
   "source": [
    "model = keras.models.Sequential([\n",
    "    keras.layers.Dense(30, activation = \"relu\", input_shape = [8]),\n",
    "    keras.layers.Dense(30, activation = \"relu\"),\n",
    "    keras.layers.Dense(1)\n",
    "])"
   ]
  },
  {
   "cell_type": "code",
   "execution_count": 70,
   "id": "82202511-17fa-4910-a90c-ae4bcf180674",
   "metadata": {},
   "outputs": [],
   "source": [
    "model.compile(loss=\"mse\", optimizer=keras.optimizers.SGD(learning_rate=1e-3))"
   ]
  },
  {
   "cell_type": "code",
   "execution_count": 71,
   "id": "3d723a91-e31a-4a62-9423-5815659edd5c",
   "metadata": {},
   "outputs": [],
   "source": [
    "checkpoint_cb = keras.callbacks.ModelCheckpoint(\"Best_Model.h5\", save_best_only = True)"
   ]
  },
  {
   "cell_type": "code",
   "execution_count": 72,
   "id": "c63e2a4a-f9c4-40e1-8d19-90b069984b36",
   "metadata": {},
   "outputs": [
    {
     "name": "stdout",
     "output_type": "stream",
     "text": [
      "Epoch 1/10\n",
      "363/363 [==============================] - 2s 4ms/step - loss: 1.6932 - val_loss: 0.8270\n",
      "Epoch 2/10\n",
      "363/363 [==============================] - 1s 3ms/step - loss: 0.7516 - val_loss: 0.6691\n",
      "Epoch 3/10\n",
      "363/363 [==============================] - 1s 3ms/step - loss: 0.6662 - val_loss: 0.6065\n",
      "Epoch 4/10\n",
      "363/363 [==============================] - 1s 3ms/step - loss: 0.6126 - val_loss: 0.5602\n",
      "Epoch 5/10\n",
      "363/363 [==============================] - 1s 3ms/step - loss: 0.5701 - val_loss: 0.5217\n",
      "Epoch 6/10\n",
      "363/363 [==============================] - 1s 3ms/step - loss: 0.5356 - val_loss: 0.4925\n",
      "Epoch 7/10\n",
      "363/363 [==============================] - 1s 3ms/step - loss: 0.5087 - val_loss: 0.4692\n",
      "Epoch 8/10\n",
      "363/363 [==============================] - 1s 3ms/step - loss: 0.4878 - val_loss: 0.4520\n",
      "Epoch 9/10\n",
      "363/363 [==============================] - 1s 3ms/step - loss: 0.4711 - val_loss: 0.4397\n",
      "Epoch 10/10\n",
      "363/363 [==============================] - 1s 3ms/step - loss: 0.4575 - val_loss: 0.4332\n"
     ]
    }
   ],
   "source": [
    "history = model.fit(X_train, y_train, epochs = 10,\n",
    "                    validation_data = (X_valid, y_valid),\n",
    "                    callbacks = [checkpoint_cb])"
   ]
  },
  {
   "cell_type": "code",
   "execution_count": 74,
   "id": "97113851-16d1-44e8-80ea-1b11e94a533e",
   "metadata": {},
   "outputs": [
    {
     "name": "stdout",
     "output_type": "stream",
     "text": [
      "162/162 [==============================] - 0s 2ms/step - loss: 80629.0469\n"
     ]
    }
   ],
   "source": [
    "model = keras.models.load_model(\"Best_Model.h5\") # rollback to best model\n",
    "mse_test = model.evaluate(X_test, y_test)"
   ]
  },
  {
   "cell_type": "markdown",
   "id": "cd047e9b-d01a-4073-b548-94928e9b7e22",
   "metadata": {},
   "source": [
    "### Best Model Only"
   ]
  },
  {
   "cell_type": "code",
   "execution_count": 75,
   "id": "5c6a7e53-f14b-46ec-beef-d5881a9e68ae",
   "metadata": {},
   "outputs": [],
   "source": [
    "del model\n",
    "keras.backend.clear_session()"
   ]
  },
  {
   "cell_type": "code",
   "execution_count": 76,
   "id": "03749aef-568d-460b-be10-7fd5d50ee489",
   "metadata": {},
   "outputs": [],
   "source": [
    "model = keras.models.Sequential([\n",
    "    keras.layers.Dense(30, activation = \"relu\", input_shape = [8]),\n",
    "    keras.layers.Dense(30, activation = \"relu\"),\n",
    "    keras.layers.Dense(1)\n",
    "])"
   ]
  },
  {
   "cell_type": "code",
   "execution_count": 77,
   "id": "1ae8b003-7a56-40fb-be51-16ac2b93993a",
   "metadata": {},
   "outputs": [],
   "source": [
    "model.compile(loss=\"mse\", optimizer=keras.optimizers.SGD(learning_rate=1e-3))"
   ]
  },
  {
   "cell_type": "code",
   "execution_count": 78,
   "id": "5158c231-9c5a-4c2c-9590-bb963e5784e2",
   "metadata": {},
   "outputs": [],
   "source": [
    "checkpoint_cb = keras.callbacks.ModelCheckpoint(\"early_stop_Model.h5\", save_best_only = True)"
   ]
  },
  {
   "cell_type": "code",
   "execution_count": 81,
   "id": "2ecebb5a-0ecc-4f26-a558-7ad1f474eb48",
   "metadata": {},
   "outputs": [],
   "source": [
    "early_stopping_cb = keras.callbacks.EarlyStopping(patience=10,\n",
    "                                                 restore_best_weights=True)\n",
    "# patience : Number of epochs with no improvement after which training will be stopped."
   ]
  },
  {
   "cell_type": "code",
   "execution_count": 83,
   "id": "6478d8d6-42e8-462b-964d-2d6d7876f328",
   "metadata": {},
   "outputs": [
    {
     "name": "stdout",
     "output_type": "stream",
     "text": [
      "Epoch 1/200\n",
      "363/363 [==============================] - 1s 3ms/step - loss: 0.4663 - val_loss: 0.4430\n",
      "Epoch 2/200\n",
      "363/363 [==============================] - 1s 3ms/step - loss: 0.4567 - val_loss: 0.4457\n",
      "Epoch 3/200\n",
      "363/363 [==============================] - 1s 3ms/step - loss: 0.4485 - val_loss: 0.4300\n",
      "Epoch 4/200\n",
      "363/363 [==============================] - 1s 3ms/step - loss: 0.4415 - val_loss: 0.4394\n",
      "Epoch 5/200\n",
      "363/363 [==============================] - 1s 3ms/step - loss: 0.4353 - val_loss: 0.4314\n",
      "Epoch 6/200\n",
      "363/363 [==============================] - 1s 3ms/step - loss: 0.4299 - val_loss: 0.4335\n",
      "Epoch 7/200\n",
      "363/363 [==============================] - 1s 3ms/step - loss: 0.4251 - val_loss: 0.4429\n",
      "Epoch 8/200\n",
      "363/363 [==============================] - 1s 3ms/step - loss: 0.4209 - val_loss: 0.4293\n",
      "Epoch 9/200\n",
      "363/363 [==============================] - 1s 3ms/step - loss: 0.4172 - val_loss: 0.4257\n",
      "Epoch 10/200\n",
      "363/363 [==============================] - 1s 3ms/step - loss: 0.4138 - val_loss: 0.4453\n",
      "Epoch 11/200\n",
      "363/363 [==============================] - 1s 3ms/step - loss: 0.4110 - val_loss: 0.4348\n",
      "Epoch 12/200\n",
      "363/363 [==============================] - 1s 3ms/step - loss: 0.4080 - val_loss: 0.4530\n",
      "Epoch 13/200\n",
      "363/363 [==============================] - 1s 3ms/step - loss: 0.4055 - val_loss: 0.4616\n",
      "Epoch 14/200\n",
      "363/363 [==============================] - 1s 3ms/step - loss: 0.4031 - val_loss: 0.4468\n",
      "Epoch 15/200\n",
      "363/363 [==============================] - 1s 3ms/step - loss: 0.4008 - val_loss: 0.4406\n",
      "Epoch 16/200\n",
      "363/363 [==============================] - 1s 3ms/step - loss: 0.3987 - val_loss: 0.4360\n",
      "Epoch 17/200\n",
      "363/363 [==============================] - 1s 3ms/step - loss: 0.3968 - val_loss: 0.4532\n",
      "Epoch 18/200\n",
      "363/363 [==============================] - 1s 3ms/step - loss: 0.3949 - val_loss: 0.4483\n",
      "Epoch 19/200\n",
      "363/363 [==============================] - 1s 3ms/step - loss: 0.3927 - val_loss: 0.4332\n"
     ]
    }
   ],
   "source": [
    "history = model.fit(X_train, y_train, epochs = 200,\n",
    "                    validation_data = (X_valid, y_valid),\n",
    "                    callbacks = [checkpoint_cb, early_stopping_cb])"
   ]
  },
  {
   "cell_type": "code",
   "execution_count": 86,
   "id": "8a926b7f-fa3d-4371-b912-0def8a2d9425",
   "metadata": {},
   "outputs": [
    {
     "name": "stdout",
     "output_type": "stream",
     "text": [
      "162/162 [==============================] - 1s 2ms/step - loss: 86827.9844\n"
     ]
    }
   ],
   "source": [
    "model = keras.models.load_model(\"early_stop_Model.h5\")\n",
    "mse_test = model.evaluate(X_test, y_test)"
   ]
  },
  {
   "cell_type": "code",
   "execution_count": null,
   "id": "676cf70e-0249-4866-9884-e49011040ee3",
   "metadata": {},
   "outputs": [],
   "source": []
  }
 ],
 "metadata": {
  "kernelspec": {
   "display_name": "Python 3 (ipykernel)",
   "language": "python",
   "name": "python3"
  },
  "language_info": {
   "codemirror_mode": {
    "name": "ipython",
    "version": 3
   },
   "file_extension": ".py",
   "mimetype": "text/x-python",
   "name": "python",
   "nbconvert_exporter": "python",
   "pygments_lexer": "ipython3",
   "version": "3.11.7"
  }
 },
 "nbformat": 4,
 "nbformat_minor": 5
}
